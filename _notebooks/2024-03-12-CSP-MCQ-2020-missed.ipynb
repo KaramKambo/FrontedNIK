{
 "cells": [
  {
   "cell_type": "markdown",
   "metadata": {},
   "source": [
    "---\n",
    "comments: true\n",
    "layout: post\n",
    "title: MCQ 2020 Frequently Missed Questions\n",
    "description: Indiviual explanation on each of the 10 most missed questions.\n",
    "type: collab\n",
    "courses: { csp: {week: 26} }\n",
    "---"
   ]
  },
  {
   "cell_type": "markdown",
   "metadata": {},
   "source": [
    "## 4. Cause of overflow Error (1D, binary math) - Tara Sehdave\n",
    "\n",
    "In a certain computer program, two positive integers are added together, resulting in an overflow error. Which of the following best explains why the error occurs?\n",
    "\n",
    "Responses\n",
    "A\n",
    "The program attempted to perform an operation that is considered an undecidable problem.\n",
    "\n",
    "B\n",
    "The precision of the result is limited due to the constraints of using a floating-point representation.\n",
    "\n",
    "C\n",
    "The program can only use a fixed number of bits to represent integers; the computed sum is greater than the maximum representable value.\n",
    "\n",
    "D\n",
    "The program cannot represent integers; the integers are converted into decimal approximations, leading to rounding errors.\n",
    "\n",
    "The correct answer is C because...\n",
    "\n",
    "- Overflow error occurs in a computer program when adding two positive integers.\n",
    "- The program uses a fixed number of bits to represent integers.\n",
    "- The sum of the two integers exceeds the maximum representable value within the fixed number of bits.\n",
    "- Due to this limitation, the program cannot accurately represent the result of the addition.\n",
    "- As a result, an overflow error is triggered to indicate that the computed sum is beyond the representable range."
   ]
  },
  {
   "cell_type": "code",
   "execution_count": 13,
   "metadata": {},
   "outputs": [
    {
     "name": "stdout",
     "output_type": "stream",
     "text": [
      "Max float: 1.7976931348623157e+308\n",
      "Overflow float: inf\n"
     ]
    }
   ],
   "source": [
    "\n",
    "# python overflow example\n",
    "import sys\n",
    "\n",
    "# Maximum float\n",
    "max_float = sys.float_info.max\n",
    "print(f\"Max float: {max_float}\")\n",
    "\n",
    "# Attempt to overflow float\n",
    "overflow_float = max_float * 2\n",
    "print(f\"Overflow float to infinity: {overflow_float}\")"
   ]
  },
  {
   "cell_type": "markdown",
   "metadata": {},
   "source": [
    "## 5. Inputs to Logic Circuit (2D, binary logic) - Hanlun Li\n",
    "\n",
    "The diagram below shows a circuit composed of three logic gates. Each gate takes two inputs and produces a single output. For which of the following input values will the circuit have an output of true ?\n",
    "\n"
   ]
  },
  {
   "cell_type": "markdown",
   "metadata": {},
   "source": [
    "The diagram below shows a circuit composed of three logic gates. Each gate takes two inputs and produces a single output. <br>\n",
    "<img id=\"border\" src = \"{{site.baseurl}}/images/q5.png\"><br>\n",
    "For which of the following input values will the circuit have an output of true ? <br>\n",
    "\n",
    "A) A = true,  B = true,  C = true,  D = false <br>\n",
    "B) A = true,  B = false, C = false, D = true <br>\n",
    "C) A = false, B = true,  C = true,  D = true <br>\n",
    "D) A = false, B = false, C = true,  D = true <br>\n",
    "\n",
    "A OR B = True, C AND D = True, and since True AND True = True, C is correct. <br>\n",
    "OR gate only returns true if one of the values is true, and the AND gate returns true if both values are true. "
   ]
  },
  {
   "cell_type": "code",
   "execution_count": 39,
   "metadata": {},
   "outputs": [
    {
     "name": "stdout",
     "output_type": "stream",
     "text": [
      "A B C D Output\n",
      "False False False False --> False\n",
      "False False False True --> False\n",
      "False False True False --> False\n",
      "False False True True --> False\n",
      "False True False False --> False\n",
      "False True False True --> False\n",
      "False True True False --> False\n",
      "False True True True --> True\n",
      "True False False False --> False\n",
      "True False False True --> False\n",
      "True False True False --> False\n",
      "True False True True --> True\n",
      "True True False False --> False\n",
      "True True False True --> False\n",
      "True True True False --> False\n",
      "True True True True --> True\n"
     ]
    }
   ],
   "source": [
    "# represent gates and circuits\n",
    "\n",
    "# OR gate\n",
    "def OR_gate(A, B):\n",
    "    return A or B\n",
    "\n",
    "# AND gate\n",
    "def AND_gate(A, B):\n",
    "    return A and B\n",
    "\n",
    "# Circuit representing correct behavior\n",
    "def circuit(A, B, C, D):\n",
    "    return AND_gate(OR_gate(A, B), AND_gate(C, D))\n",
    "\n",
    "# Print truth table for circuit\n",
    "print('A', 'B', 'C', 'D', 'Output')\n",
    "for A in [False, True]:\n",
    "    for B in [False, True]:\n",
    "        for C in [False, True]:\n",
    "            for D in [False, True]:\n",
    "                print(A, B, C, D, \"-->\", circuit(A, B, C, D))"
   ]
  },
  {
   "cell_type": "markdown",
   "metadata": {},
   "source": [
    "## 11. Color represented by binary Triplet (2D, binary) - Torin Wolff\n",
    "\n",
    "A color in a computing application is represented by an RGB triplet that describes the amount of red, green, and blue, respectively, used to create the desired color. A selection of colors and their corresponding RGB triplets are shown in the following table. Each value is represented in decimal (base 10).\n",
    "\n",
    "According to information in the table, what color is represented by the binary RGB triplet (11111111, 11111111, 11110000) ?\n",
    "\n",
    "#### What is a binary triplet?\n",
    "A binary triplet is a set of three binary numbers. Binary numbers are numbers that are represented by a series of 1's and 0's. Binary numbers are used in computers because they are easy to represent with electrical signals. A binary triplet is a set of three binary numbers that are used to represent a color. The first number represents the amount of red in the color, the second number represents the amount of green in the color, and the third number represents the amount of blue in the color. The numbers are represented in binary because it is easy to represent with electrical signals. The numbers are represented in a triplet because it is easy to represent with electrical signals.\n",
    "\n",
    "#### How is a color in binary represented?\n",
    "A color in binary is represented by a set of three binary numbers. The first number represents the amount of red in the color, the second number represents the amount of green in the color, and the third number represents the amount of blue in the color. The numbers are represented in binary because it is easy to represent with electrical signals. The numbers are represented in a triplet because it is easy to represent with electrical signals. An example of this would be: (01101110, 11111111, 10010110), if you converted this binary triplet to a decimal number it would be 110, 255, 150. This would be a shade of the color green.\n",
    "\n",
    "#### How do you convert a binary triplet to a decimal number?\n",
    "To convert a binary string to a decimal number you need to multiply each digit by its place value. For example, if you have the binary string 1010 you would multiply the first digit by 2^3, the second digit by 2^2, the third digit by 2^1, and the fourth digit by 2^0. This would give you the decimal number 10. To convert a binary triplet to a decimal number you need to multiply each digit by its place value. For example, if you have the binary triplet (01101110, 11111111, 10010110) you would multiply the first digit by 2^7, the second digit by 2^6, the third digit by 2^5, the fourth digit by 2^4, the fifth digit by 2^3, the sixth digit by 2^2, the seventh digit by 2^1, and the eighth digit by 2^0. This would give you the decimal number 110, 255, 150.\n",
    "\n",
    "(0 * 2^7) + (1 * 2^6) + (1 * 2^5) + (0 * 2^4) + (1 * 2^3) + (1 * 2^2) + (1 * 2^1) + (0 * 2^0)\n",
    "\n",
    "= 0 + 64 + 32 + 0 + 8 + 4 + 2 + 0\n",
    "\n",
    "= 110\n",
    "\n",
    "(insert photo)\n",
    "\n",
    "\n"
   ]
  },
  {
   "cell_type": "code",
   "execution_count": 32,
   "metadata": {},
   "outputs": [
    {
     "name": "stdout",
     "output_type": "stream",
     "text": [
      "00111111 00111111 01110000\n",
      "0.24705882352941178 0.24705882352941178 0.4392156862745098\n"
     ]
    },
    {
     "data": {
      "image/png": "[encoded data removed]",
      "text/plain": [
       "<Figure size 200x200 with 1 Axes>"
      ]
     },
     "metadata": {},
     "output_type": "display_data"
    }
   ],
   "source": [
    "# Convert binary RGB triplet to decimal\n",
    "\n",
    "import matplotlib.pyplot as plt\n",
    "import matplotlib.patches as patches\n",
    "\n",
    "# Function to convert binary to decimal\n",
    "def binary_to_decimal(binary):\n",
    "    return int(binary, 2)\n",
    "\n",
    "# Binary RGB triplet, example by College Board was 11111111, 11111111, 11110000; almost white \n",
    "red_binary = '00111111'\n",
    "green_binary = '00111111'\n",
    "blue_binary = '01110000'\n",
    "\n",
    "# Convert to binary strings to decimal\n",
    "red = binary_to_decimal(red_binary)\n",
    "green = binary_to_decimal(green_binary)\n",
    "blue = binary_to_decimal(blue_binary)\n",
    "\n",
    "# Normalize number to [0, 1] range, as it is expected by matplotlib \n",
    "red, green, blue = red/255, green/255, blue/255\n",
    "\n",
    "# Create a figure and a subplot\n",
    "fig, ax = plt.subplots(1, 1, figsize=(2, 2))\n",
    "\n",
    "# Create a rectangle patch on the subplot with the color\n",
    "rect = patches.Rectangle((0, 0), 1, 1, facecolor=(red, green, blue))\n",
    "\n",
    "# Add the patch to the Axes\n",
    "ax.add_patch(rect)\n",
    "\n",
    "# Remove axis\n",
    "ax.axis('off')\n",
    "\n",
    "# Print the binary and decimal values\n",
    "print(red_binary, green_binary, blue_binary)    \n",
    "print(red, green, blue)\n",
    "# Show the triplet color\n",
    "plt.show()"
   ]
  },
  {
   "cell_type": "markdown",
   "metadata": {},
   "source": [
    "## 15. Compare output of program a and b (1D, program loop) - Arnav Nadar\n",
    "\n",
    "Which of the following best compares the values displayed by programs A and B?\n",
    "\n"
   ]
  },
  {
   "cell_type": "markdown",
   "metadata": {},
   "source": [
    "## 23. Flowchart to set available (1D, algorithmic expression) - Tanujsai Nimmagadda\n",
    "\n",
    "A flowchart is a way to visually represent an algorithm. The flowchart below is used by an application to set the Boolean variable available to true under certain conditions. The flowchart uses the Boolean variable weekday and the integer variable miles.\n",
    "\n",
    "Which of the following statements is equivalent to the algorithm in the flowchart?\n",
    "\n",
    "\n",
    "\n",
    "    - Within this diagram, the circle functions are the start and end of the program. The rectangular boxes are the output and the diamonds are the deciding booleans. \n",
    "    - Using these functions, the program comes to its output of either available being true or false. The program must go through the requirements to get the value true, which the problem asks of us, the variable weekday equals true and the variable miles should be less than 20. These both must be true and cannot result from one or the other happening. \n",
    "\n",
    "The answer was meant to be D.\n",
    "\n",
    "<img src=\"images/CBq50.PNG\" height=\"550px\" width=7550px\"/>\n"
   ]
  },
  {
   "cell_type": "markdown",
   "metadata": {},
   "source": [
    "## 50. Reasonable time algorithms (1D, Big O) - Vance Reynolds \n",
    "\n",
    "Consider the following algorithms. Each algorithm operates on a list containing n elements, where n is a very large integer.\n",
    "\n",
    "An algorithm that accesses each element in the list twice\n",
    "An algorithm that accesses each element in the list n times\n",
    "An algorithm that accesses only the first 10 elements in the list, regardless of the size of the list\n",
    "Which of the algorithms run in reasonable time?\n",
    "\n",
    "Answer D is correct because in order for an algorithm to run in reasonable time, it must take a number of steps less than or equal to a polynomial function. Algorithm I accesses elements times (twice for each of n elements), which is considered in time. Algorithm II accesses elements (n times for each of n elements), which is in reasonable time. Algorithm III accesses 10 elements, which is in reasonable time.\n",
    "\n",
    "Simple Explainations:\n",
    "\n",
    "Unreasonable time: Algorithms with exponential or factorial efficiencies are examples of algorithms that run in an unreasonable amount of time.\n",
    "\n",
    "Reasonable time: Algorithms with a polynomial efficiency or lower (constant, linear, square, cube, etc.) are said to run in a reasonable amount of time."
   ]
  },
  {
   "cell_type": "code",
   "execution_count": 34,
   "metadata": {},
   "outputs": [
    {
     "name": "stdout",
     "output_type": "stream",
     "text": [
      "Algorithm 1 took 0.13 milliseconds\n",
      "Algorithm 2 took 378.27 milliseconds\n",
      "Algorithm 3 took 0.02 milliseconds\n"
     ]
    }
   ],
   "source": [
    "import time\n",
    "\n",
    "# Algorithm that accesses each element in the list twice\n",
    "def algorithm1(lst):\n",
    "    for i in lst:\n",
    "        pass\n",
    "    for i in lst:\n",
    "        pass\n",
    "\n",
    "# Algorithm that accesses each element in the list n times\n",
    "def algorithm2(lst):\n",
    "    for i in lst:\n",
    "        for j in lst:\n",
    "            pass\n",
    "\n",
    "# Algorithm that accesses only the first 10 elements in the list\n",
    "def algorithm3(lst):\n",
    "    for i in lst[:10]:\n",
    "        pass\n",
    "\n",
    "# Create a large list\n",
    "n = 10000\n",
    "lst = list(range(n))\n",
    "\n",
    "# Measure the time taken by algorithm1\n",
    "start = time.time()\n",
    "algorithm1(lst)\n",
    "end = time.time()\n",
    "print(f\"Algorithm 1 took {(end - start)*1000:.2f} milliseconds\")\n",
    "\n",
    "# Measure the time taken by algorithm2\n",
    "start = time.time()\n",
    "algorithm2(lst)\n",
    "end = time.time()\n",
    "print(f\"Algorithm 2 took {(end - start)*1000:.2f} milliseconds\")\n",
    "\n",
    "# Measure the time taken by algorithm3\n",
    "start = time.time()\n",
    "algorithm3(lst)\n",
    "end = time.time()\n",
    "print(f\"Algorithm 3 took {(end - start)*1000:.2f} milliseconds\")"
   ]
  },
  {
   "cell_type": "markdown",
   "metadata": {},
   "source": [
    "## 56. Compare execution times of tow version (1D analysis) - Kayden Le\n",
    "\n",
    "An online game collects data about each player’s performance in the game. A program is used to analyze the data to make predictions about how players will perform in a new version of the game.\n",
    "\n",
    "The procedure GetPrediction (idNum) returns a predicted score for the player with ID number idNum. Assume that all predicted scores are positive. The GetPrediction procedure takes approximately 1 minute to return a result. All other operations happen nearly instantaneously.\n",
    "\n",
    "Two versions of the program are shown below.\n",
    "\n",
    "Which of the following best compares the execution times of the two versions of the program?\n",
    "\n",
    "Version I calls the GetPrediction procedure once for each element of idList, or four times total. Since each call requires 1 minute of execution time, version I requires approximately 4 minutes to execute. Version II calls the GetPrediction procedure twice for each element of idList, and then again in the final display statement. This results in the procedure being called nine times, requiring approximately 9 minutes of execution time.\n",
    "\n",
    "Both versions aim to achieve the same result, which is to find and display the highest predicted score among the players in idList. However, Version I directly updates the highest score (topScore), while Version II updates the ID of the player with the highest score (topID) and then retrieves the predicted score for that player. Version II essentially avoids calling GetPrediction multiple times for the same ID.\n",
    "\n",
    "The answer: D - Version II requires approximately 5 more minutes to execute than version I\n"
   ]
  },
  {
   "cell_type": "code",
   "execution_count": null,
   "metadata": {},
   "outputs": [],
   "source": [
    "Version I\n",
    "\n",
    "topScore \n",
    " 0\n",
    "\n",
    "idList \n",
    " [1298702, 1356846, 8848491, 8675309]\n",
    "\n",
    "FOR EACH id IN idList\n",
    "\n",
    "{\n",
    "\n",
    "score \n",
    " GetPrediction (id)\n",
    "\n",
    "IF (score > topScore)\n",
    "\n",
    "{\n",
    "\n",
    "topScore \n",
    " score\n",
    "\n",
    "}\n",
    "\n",
    "}\n",
    "\n",
    "DISPLAY (topScore)\n",
    "\n",
    "Version II\n",
    "\n",
    "idList \n",
    " [1298702, 1356846, 8848491, 8675309]\n",
    "\n",
    "topID \n",
    " idList[1]\n",
    "\n",
    "FOR EACH id IN idList\n",
    "\n",
    "{\n",
    "\n",
    "IF (GetPrediction (id) > GetPrediction (topID))\n",
    "\n",
    "{\n",
    "\n",
    "topID \n",
    " id\n",
    "\n",
    "}\n",
    "\n",
    "}\n",
    "\n",
    "DISPLAY (GetPrediction (topID)) "
   ]
  },
  {
   "cell_type": "code",
   "execution_count": 40,
   "metadata": {},
   "outputs": [
    {
     "name": "stdout",
     "output_type": "stream",
     "text": [
      "Version I took 240.00000095367432 seconds\n",
      "Version II took 540.0000011920929 seconds\n"
     ]
    }
   ],
   "source": [
    "# Simulate the time taken by GetPrediction\n",
    "\n",
    "'''\n",
    "The GetPrediction function is a simulation stand-in for a potentially expensive operation.\n",
    "In a real-world scenario, this could be a call to a;\n",
    "   - machine learning model\n",
    "   - a database query\n",
    "   - or any other algorithm that takes a significant amount of time.\n",
    "'''\n",
    "def GetPrediction(idNum):\n",
    "    # time.sleep(60)  # Commented out to avoid actual delay\n",
    "    return idNum * 10  # Dummy prediction\n",
    "\n",
    "# Version I: makes a single call to GetPrediction for each element in idList\n",
    "def version_I(idList):\n",
    "    start = time.time()  # Start timer\n",
    "    topScore = 0\n",
    "    for idNum in idList:\n",
    "        predictedScore = GetPrediction(idNum) # calls GetPrediction once\n",
    "        if predictedScore > topScore:\n",
    "            topScore = predictedScore\n",
    "    end = time.time()  # End timer\n",
    "    print(f\"Version I took {end - start + len(idList) * 60} simulated seconds\")  # Add simulated delay\n",
    "\n",
    "# Version II: makes two calls to GetPrediction for each element in idList\n",
    "def version_II(idList):\n",
    "    start = time.time()  # Start timer\n",
    "    topID = idList[0]\n",
    "    for idNum in idList:\n",
    "        if GetPrediction(idNum) > GetPrediction(topID): # calls GetPrediction twice\n",
    "            topID = idNum\n",
    "    end = time.time()  # End timer\n",
    "    print(f\"Version II took {end - start + len(idList) * 2 * 60 + 60} simulated seconds\")  # Add simulated delay\n",
    "\n",
    "# Test the functions\n",
    "idList = [1, 2, 3, 4]\n",
    "version_I(idList)\n",
    "version_II(idList)"
   ]
  },
  {
   "cell_type": "markdown",
   "metadata": {},
   "source": [
    "## 64. Error with multiplication using repeated addition (4C algorithms and programs) - Abdullah Khanani\n",
    "\n",
    "The following procedure is intended to return the value of x times y, where x and y are integers. Multiplication is implemented using repeated additions.\n",
    "\n",
    "For which of the following procedure calls does the procedure NOT return the intended value?\n",
    "\n",
    "Select two answers."
   ]
  },
  {
   "cell_type": "markdown",
   "metadata": {},
   "source": [
    "### Question 64\n",
    "\n",
    "PROCEDURE Multiply [x,y]\n",
    "    count <-- 0\n",
    "    result <-- 0\n",
    "    REPEAT UNTIL [count ≥ y]\n",
    "        result <-- result + x\n",
    "        count <-- count + 1\n",
    "    RETURN result\n",
    "\n",
    "### Question\n",
    "\n",
    "#### For which of the following procedure calls does the procedure NOT return the intended value? Select two answers.\n",
    "\n",
    "### Options\n",
    "\n",
    "A. Multiply 2,5\n",
    "B. Multiply 2,-5\n",
    "C. Multiply -2,5\n",
    "D. Multiply -2,-5\n",
    "\n",
    "### Answered\n",
    "\n",
    "A and C\n",
    "\n",
    "### Correct Answer\n",
    "\n",
    "B and D\n",
    "\n",
    "### Explanation\n",
    "\n",
    "For procedures A, the procedure repeatedly adds 2 to result five times, resulting in the intended product 10. Vice versa for C. IF you want to return the result and get a correct answer, multiplying 2,-5 and -2,-5 will give you the wanted result. The following procedure is intended to return the value of x times y, where x and y are integers. Multiplication is implemented using repeated additions. A and C fit these requirements."
   ]
  },
  {
   "cell_type": "code",
   "execution_count": 36,
   "metadata": {},
   "outputs": [
    {
     "name": "stdout",
     "output_type": "stream",
     "text": [
      "10\n",
      "0\n",
      "-10\n",
      "0\n"
     ]
    }
   ],
   "source": [
    "'''\n",
    "As you can see, the function fails when y is negativei,\n",
    "because the while loop condition count < y is never true in these cases.\n",
    "'''\n",
    "\n",
    "def multiply(x, y):\n",
    "    count = 0\n",
    "    result = 0\n",
    "    while count < y:\n",
    "        result += x\n",
    "        count += 1\n",
    "    return result\n",
    "\n",
    "# Test cases\n",
    "print(multiply(2, 5))  # Expected output: 10\n",
    "print(multiply(2, -5))  # Expected output: -10, Actual output: 0\n",
    "print(multiply(-2, 5))  # Expected output: -10\n",
    "print(multiply(-2, -5))  # Expected output: 10, Actual output: 0"
   ]
  },
  {
   "cell_type": "code",
   "execution_count": 37,
   "metadata": {},
   "outputs": [
    {
     "name": "stdout",
     "output_type": "stream",
     "text": [
      "10\n",
      "-10\n",
      "-10\n",
      "10\n"
     ]
    }
   ],
   "source": [
    "'''\n",
    "As you can see, the function fails when y is negativei,\n",
    "because the while loop condition count < y is never true in these cases.\n",
    "'''\n",
    "\n",
    "def multiply(x, y):\n",
    "    count = 0\n",
    "    result = 0\n",
    "    while abs(count) < abs(y):\n",
    "        result += x if y > 0 else -x\n",
    "        count += 1\n",
    "    return result\n",
    "\n",
    "# Test cases\n",
    "print(multiply(2, 5))  # Expected output: 10\n",
    "print(multiply(2, -5))  # Expected output: -10\n",
    "print(multiply(-2, 5))  # Expected output: -10\n",
    "print(multiply(-2, -5))  # Expected output: 10"
   ]
  },
  {
   "cell_type": "markdown",
   "metadata": {},
   "source": [
    "## 65. Call to concat and substring (4B string operations) - Ameer Hussain\n",
    "\n",
    "A program contains the following procedures for string manipulation.\n",
    "\n",
    "Which of the following can be used to store the string \"jackalope\" in the string variable animal ?\n",
    "\n",
    "Select two answers."
   ]
  },
  {
   "cell_type": "markdown",
   "metadata": {},
   "source": [
    "### Correct Answer C:\n",
    "animal ← Substring(“jackrabbit”, 1, 4) extracts “jack” from “jackrabbit”. animal ← Concat(animal, “a”) appends “a” to “jack”, resulting in “jacka”. animal ← Concat(animal, Substring(“antelope”, 5, 4)) extracts “lope” from “antelope” and appends it to “jacka”, resulting in “jackalope”.\n",
    "\n",
    "### Incorrect Answer D:\n",
    "animal ← Substring(“jackrabbit”, 1, 4) extracts “jack” from “jackrabbit”. animal ← Concat(animal, “a”) appends “a” to “jack”, resulting in “jacka”. animal ← Concat(Substring(“antelope”, 5, 4), animal) is slightly misleading because it extracts “lope” from “antelope” and should prepend it to “jacka”, but this is incorrect because it would result in “lopejacka”. the operations in Answer D would not result in “jackalope”.\n",
    "\n",
    "animal ← Substring(“antelope”, 5, 4) would assign the substring “lope” from “antelope” to the variable animal. animal ← Concat(“a”, animal) would then prepend “a” to “lope”, resulting in “alope”. animal ← Concat(Substring(“jackrabbit”, 1, 4), animal) would take the substring “jack” from “jackrabbit” and then concatenate it with “alope” resulting in “jackalope”.\n",
    "\n",
    "The process outlined in Answer B does indeed result in the string “jackalope”, with the first step isolating “lope” from “antelope”, the second step creating the string “alope” by prepending “a” to “lope”, and the final step creating the correct string by prepending “jack” to “alope”.\n",
    "\n",
    "animal ← Substring(“antelope”, 5, 4) would assign the substring “lope” from “antelope” to the variable animal. animal ← Concat(“a”, animal) would then prepend “a” to “lope”, resulting in “alope”. animal ← Concat(Substring(“jackrabbit”, 1, 4), animal) would take the substring “jack” from “jackrabbit” and then concatenate it with “alope” resulting in “jackalope”.\n",
    "\n",
    "The process outlined in Answer B does indeed result in the string “jackalope”, with the first step isolating “lope” from “antelope”, the second step creating the string “alope” by prepending “a” to “lope”, and the final step creating the correct string by prepending “jack” to “alope”."
   ]
  },
  {
   "cell_type": "markdown",
   "metadata": {},
   "source": [
    "## 67. Error in numOccurrences procedure (4C algorithms and programs) - Monika Roy\n",
    "\n",
    "The procedure NumOccurrences is intended to count and return the number of times targetWord appears in the list wordList. The procedure does not work as intended.\n",
    "\n",
    "For which of the following code segments will the call to NumOccurrences NOT return the intended value?\n",
    "\n",
    "Select two answers.  "
   ]
  }
 ],
 "metadata": {
  "kernelspec": {
   "display_name": "Python 3",
   "language": "python",
   "name": "python3"
  },
  "language_info": {
   "codemirror_mode": {
    "name": "ipython",
    "version": 3
   },
   "file_extension": ".py",
   "mimetype": "text/x-python",
   "name": "python",
   "nbconvert_exporter": "python",
   "pygments_lexer": "ipython3",
   "version": "3.11.7"
  },
  "orig_nbformat": 4
 },
 "nbformat": 4,
 "nbformat_minor": 2
}
