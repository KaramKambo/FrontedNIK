{
 "cells": [
  {
   "attachments": {},
   "cell_type": "raw",
   "metadata": {},
   "source": [
    "---\n",
    "layout: post\n",
    "toc: true\n",
    "title: ML, Titanic Data\n",
    "description: Exploring the Titanic dataset with machine learning. \n",
    "courses: { csp: {week: 25} }\n",
    "type: ccc\n",
    "---"
   ]
  },
  {
   "attachments": {},
   "cell_type": "markdown",
   "metadata": {},
   "source": [
    "## Introduction to Pandas and ML\n",
    "> Here is how Mort started on this assignment by asking ChatGPT  ... Regarding Python Pandas, what are some data sets that would be good for learning Pandas?\n",
    "\n",
    "- There are many data sets that are suitable for learning pandas, depending on your interests and the skills you want to develop. \n",
    "\n",
    "    Here are some suggestions...\n",
    "\n",
    "    - Titanic Dataset: This is a classic dataset for data analysis and machine learning, and is often used as an introduction to pandas. The dataset contains information about passengers on the Titanic, including their demographics, ticket class, and survival status.\n",
    "\n",
    "    - Iris Dataset: This is another classic dataset that is often used in machine learning and data analysis courses. The dataset contains information about iris flowers, including their sepal length, sepal width, petal length, and petal width.\n",
    "\n",
    "    - NBA Player Stats: This dataset contains information about NBA players, including their stats for various games, their positions, and their salaries. It is a great dataset for learning how to clean and manipulate data using pandas.\n",
    "\n",
    "    - Housing Prices Dataset: This dataset contains information about housing prices in a particular city or region, including variables such as the number of bedrooms, square footage, and price. It is a great dataset for learning how to manipulate and analyze numerical data using pandas.\n",
    "\n",
    "    - COVID-19 Dataset: This dataset contains information about the COVID-19 pandemic, including the number of cases, deaths, and recoveries in various countries and regions. It is a great dataset for learning how to manipulate and analyze time-series data using pandas.\n",
    "\n",
    "    - World Bank Dataset: This dataset contains information about economic indicators from various countries, such as GDP, population, and poverty rates. It is a great dataset for learning how to manipulate and analyze large datasets using pandas.\n",
    "\n",
    "\n",
    "- These are just a few examples of the many datasets that are suitable for learning pandas. The best dataset for you will depend on your interests and the specific skills you want to develop.\n",
    "\n",
    "\n",
    "> Follow up question, \"where can I find Titanic data set?\"\n",
    "\n",
    "- The Titanic dataset is a popular dataset for data analysis and machine learning, and it can be found on various websites and data repositories. Here are a few places where you can find the Titanic dataset...\n",
    "\n",
    "    - Kaggle: The Titanic dataset is available on Kaggle, which is a popular platform for data scientists and machine learning enthusiasts. You can download the dataset from the Kaggle website after creating an account.\n",
    "\n",
    "    - UCI Machine Learning Repository: The Titanic dataset is also available on the UCI Machine Learning Repository, which is a collection of datasets that are commonly used for machine learning research. You can download the dataset from the UCI Machine Learning Repository website.\n",
    "\n",
    "    - Seaborn library: If you have the Seaborn library installed in your Python environment, you can load the Titanic dataset directly from the library using the following code:\n"
   ]
  },
  {
   "cell_type": "markdown",
   "metadata": {},
   "source": [
    "### Titanic Libraries\n",
    "Using the Titanic dataset will require importing data.\n",
    "\n",
    "```python\n",
    "    import seaborn as sns\n",
    "    titanic_data = sns.load_dataset('titanic')\n",
    "```"
   ]
  },
  {
   "cell_type": "code",
   "execution_count": null,
   "metadata": {},
   "outputs": [],
   "source": [
    "# Uncomment the following lines to install the required packages\n",
    "# !pip install seaborn\n",
    "# !pip install pandas\n",
    "# !pip install scikit-learn"
   ]
  },
  {
   "attachments": {},
   "cell_type": "markdown",
   "metadata": {},
   "source": [
    "### Titanic Data\n",
    "> Look at a sample of data."
   ]
  },
  {
   "cell_type": "code",
   "execution_count": null,
   "metadata": {},
   "outputs": [],
   "source": [
    "import seaborn as sns\n",
    "\n",
    "# Load the titanic dataset\n",
    "titanic_data = sns.load_dataset('titanic')\n",
    "\n",
    "print(\"Titanic Data\")\n",
    "\n",
    "\n",
    "print(titanic_data.columns) # titanic data set\n",
    "display(titanic_data[['survived','pclass', 'sex', 'age', 'sibsp', 'parch', 'class', 'fare', 'embark_town', 'alone']]) # look at selected columns"
   ]
  },
  {
   "attachments": {},
   "cell_type": "markdown",
   "metadata": {},
   "source": [
    "### Clean Titanic Data\n",
    "This is called 'Cleaning' data.  \n",
    "\n",
    "Most analysis, like Machine Learning require data to be in standardized format...\n",
    "- All data needs to be numeric\n",
    "- Some data is removed, as it is not useable in study\n",
    "- Sex and alone is changed to binary \n",
    "- The embark data is split into multiple columns\n"
   ]
  },
  {
   "cell_type": "code",
   "execution_count": null,
   "metadata": {},
   "outputs": [],
   "source": [
    "import pandas as pd\n",
    "# Preprocess the data\n",
    "from sklearn.preprocessing import OneHotEncoder\n",
    "\n",
    "td = titanic_data\n",
    "td.drop(['alive', 'who', 'adult_male', 'class', 'embark_town', 'deck'], axis=1, inplace=True)\n",
    "td.dropna(inplace=True) # drop rows with at least one missing value, after dropping unuseful columns\n",
    "td['sex'] = td['sex'].apply(lambda x: 1 if x == 'male' else 0)\n",
    "td['alone'] = td['alone'].apply(lambda x: 1 if x == True else 0)\n",
    "\n",
    "# Encode categorical variables\n",
    "enc = OneHotEncoder(handle_unknown='ignore')\n",
    "enc.fit(td[['embarked']])\n",
    "onehot = enc.transform(td[['embarked']]).toarray()\n",
    "cols = ['embarked_' + val for val in enc.categories_[0]]\n",
    "td[cols] = pd.DataFrame(onehot)\n",
    "td.drop(['embarked'], axis=1, inplace=True)\n",
    "td.dropna(inplace=True) # drop rows with at least one missing value, after preparing the data\n",
    "\n",
    "print(td.columns)\n",
    "display(td)"
   ]
  },
  {
   "attachments": {},
   "cell_type": "markdown",
   "metadata": {},
   "source": [
    "### Train Titanic Data\n",
    "The result of 'Training' data is making it easier to analyze or make conclusions.\n",
    "\n",
    "What conclusions can you make using min, max, means statistics bout the following...\n",
    "- Given that 1-male and 0-femaale, what gender is more likely to suvive?\n",
    "- Can you make an conclusions on fare?\n",
    "- Can you make any conclusions on being alone?"
   ]
  },
  {
   "cell_type": "markdown",
   "metadata": {},
   "source": [
    "#### Median Values"
   ]
  },
  {
   "cell_type": "code",
   "execution_count": null,
   "metadata": {},
   "outputs": [],
   "source": [
    "print(titanic_data.median())"
   ]
  },
  {
   "cell_type": "markdown",
   "metadata": {},
   "source": [
    "#### Perished Mean/Average"
   ]
  },
  {
   "cell_type": "code",
   "execution_count": null,
   "metadata": {},
   "outputs": [],
   "source": [
    "print(titanic_data.query(\"survived == 0\").mean())"
   ]
  },
  {
   "attachments": {},
   "cell_type": "markdown",
   "metadata": {},
   "source": [
    "#### Survived Mean/Average"
   ]
  },
  {
   "cell_type": "code",
   "execution_count": null,
   "metadata": {},
   "outputs": [],
   "source": [
    "print(td.query(\"survived == 1\").mean())"
   ]
  },
  {
   "attachments": {},
   "cell_type": "markdown",
   "metadata": {},
   "source": [
    "#### Survived Max and Min Stats"
   ]
  },
  {
   "cell_type": "code",
   "execution_count": null,
   "metadata": {},
   "outputs": [],
   "source": [
    "print(\"maximums for survivors\")\n",
    "print(td.query(\"survived == 1\").max())\n",
    "print()\n",
    "print(\"minimums for survivors\")\n",
    "print(td.query(\"survived == 1\").min())"
   ]
  },
  {
   "attachments": {},
   "cell_type": "markdown",
   "metadata": {},
   "source": [
    "## Machine Learning \n",
    "<a href=\"https://www.tutorialspoint.com/scikit_learn/scikit_learn_introduction.htm#:~:text=Scikit%2Dlearn%20(Sklearn)%20is,a%20consistence%20interface%20in%20Python\">Visit Tutorials Point</a>\n",
    "\n",
    "> Scikit-learn is a powerful Python library for machine learning, offering tools for classification, regression, clustering, and dimensionality reduction.\n",
    "\n",
    "- The Titanic dataset is a classic for data analysis and machine learning. We'll use machine learning techniques like Decision Trees and Logistic Regression to predict passenger survival. \n",
    "\n",
    "- [Decision Trees](https://scikit-learn.org/stable/modules/tree.html#tree) are a type of model used for both classification and regression. They work by creating a tree-like model of decisions based on the features. For example, in the context of the Titanic dataset, a Decision Tree might make decisions based on features like 'age', 'sex', and 'fare' to predict whether a passenger survived. The tree might first split by 'sex', then for each sex, split by 'age', and so on, creating a tree of decisions.\n",
    "\n",
    "- [Logistic Regression](https://scikit-learn.org/stable/modules/linear_model.html#logistic-regression) is a statistical model used in machine learning for binary classification problems. It models the probabilities of the default class (e.g., the probability of a passenger surviving, in the context of the Titanic dataset). \n",
    "\n",
    "- After training our models, we'll evaluate their performance using accuracy, the percentage of correct predictions on unseen data."
   ]
  },
  {
   "cell_type": "code",
   "execution_count": null,
   "metadata": {},
   "outputs": [],
   "source": [
    "from sklearn.model_selection import train_test_split\n",
    "from sklearn.tree import DecisionTreeClassifier\n",
    "from sklearn.linear_model import LogisticRegression\n",
    "from sklearn.metrics import accuracy_score\n",
    "\n",
    "# Build distinct data frames on survived column\n",
    "X = td.drop('survived', axis=1) # all except 'survived'\n",
    "y = td['survived'] # only 'survived'\n",
    "\n",
    "# Split arrays in random train 70%, random test 30%, using stratified sampling (same proportion of survived in both sets) and a fixed random state (42\n",
    "# The number 42 is often used in examples and tutorials because of its cultural significance in fields like science fiction (it's the \"Answer to the Ultimate Question of Life, The Universe, and Everything\" in The Hitchhiker's Guide to the Galaxy by Douglas Adams). But in practice, the actual value doesn't matter; what's important is that it's set to a consistent value.\n",
    "# X_train is the DataFrame containing the features for the training set.\n",
    "# X_test is the DataFrame containing the features for the test set.\n",
    "# y-train is the 'survived' status for each passenger in the training set, corresponding to the X_train data.\n",
    "# y_test is the 'survived' status for each passenger in the test set, corresponding to the X_test data.\n",
    "X_train, X_test, y_train, y_test = train_test_split(X, y, test_size=0.3, random_state=42)\n",
    "\n",
    "# Train a decision tree classifier\n",
    "dt = DecisionTreeClassifier()\n",
    "dt.fit(X_train, y_train)\n",
    "\n",
    "# Test the model\n",
    "y_pred = dt.predict(X_test)\n",
    "accuracy = accuracy_score(y_test, y_pred)\n",
    "print('DecisionTreeClassifier Accuracy: {:.2%}'.format(accuracy))  \n",
    "\n",
    "# Train a logistic regression model\n",
    "logreg = LogisticRegression()\n",
    "logreg.fit(X_train, y_train)\n",
    "\n",
    "# Test the model\n",
    "y_pred = logreg.predict(X_test)\n",
    "accuracy = accuracy_score(y_test, y_pred)\n",
    "print('LogisticRegression Accuracy: {:.2%}'.format(accuracy))  "
   ]
  },
  {
   "cell_type": "markdown",
   "metadata": {},
   "source": [
    "### Predicting Survival\n",
    "So, now we are ready to play the game... \"Would I have survived the Titanic?\".  \n",
    "\n",
    "Insert your own data in the code.  Look at your analysis and consider how you would travel today.\n",
    "- Data description:\n",
    "    - pclass - Passenger Class (1 = 1st; 2 = 2nd; 3 = 3rd)\n",
    "    - name - Name\n",
    "    - sex - male or female\n",
    "    - age - number of year \n",
    "    - sibsp - number of Siblings/Spouses Aboard\n",
    "    - parch - number of Parents/Children Aboard\n",
    "    - fare - passenger fare 0 to 512\n",
    "    - embarked - Port of Embarkation (C = Cherbourg; Q = Queenstown; S = Southampton)\n",
    "    - alone - boolean True or False"
   ]
  },
  {
   "cell_type": "code",
   "execution_count": null,
   "metadata": {},
   "outputs": [],
   "source": [
    "import numpy as np\n",
    "\n",
    "# Logistic regression model is used to predict the probability\n",
    "\n",
    "# Define a new passenger\n",
    "passenger = pd.DataFrame({\n",
    "    'name': ['John Mortensen'],\n",
    "    'pclass': [2], # 2nd class picked as it was median, bargains are my preference, but I don't want to have poor accomodations\n",
    "    'sex': ['male'],\n",
    "    'age': [64],\n",
    "    'sibsp': [1], # I usually travel with my wife\n",
    "    'parch': [1], # currenly I have 1 child at home\n",
    "    'fare': [16.00], # median fare picked assuming it is 2nd class\n",
    "    'embarked': ['S'], # majority of passengers embarked in Southampton\n",
    "    'alone': [False] # travelling with family (spouse and child))\n",
    "})\n",
    "\n",
    "display(passenger)\n",
    "new_passenger = passenger.copy()\n",
    "\n",
    "# Preprocess the new passenger data\n",
    "new_passenger['sex'] = new_passenger['sex'].apply(lambda x: 1 if x == 'male' else 0)\n",
    "new_passenger['alone'] = new_passenger['alone'].apply(lambda x: 1 if x == True else 0)\n",
    "\n",
    "# Encode 'embarked' variable\n",
    "onehot = enc.transform(new_passenger[['embarked']]).toarray()\n",
    "cols = ['embarked_' + val for val in enc.categories_[0]]\n",
    "new_passenger[cols] = pd.DataFrame(onehot, index=new_passenger.index)\n",
    "new_passenger.drop(['name'], axis=1, inplace=True)\n",
    "new_passenger.drop(['embarked'], axis=1, inplace=True)\n",
    "\n",
    "display(new_passenger)\n",
    "\n",
    "# Predict the survival probability for the new passenger\n",
    "dead_proba, alive_proba = np.squeeze(logreg.predict_proba(new_passenger))\n",
    "\n",
    "# Print the survival probability\n",
    "print('Death probability: {:.2%}'.format(dead_proba))  \n",
    "print('Survival probability: {:.2%}'.format(alive_proba))"
   ]
  },
  {
   "cell_type": "markdown",
   "metadata": {},
   "source": [
    "### Improve your chances\n",
    "Is there anything you could do to improve your chances? "
   ]
  },
  {
   "cell_type": "code",
   "execution_count": null,
   "metadata": {},
   "outputs": [],
   "source": [
    "# Decision tree model is used to determine the importance of each feature\n",
    "\n",
    "importances = dt.feature_importances_\n",
    "for feature, importance in zip(new_passenger.columns, importances):\n",
    "    print(f'The importance of {feature} is: {importance}')"
   ]
  },
  {
   "cell_type": "markdown",
   "metadata": {},
   "source": [
    "## The code above needs to be reformed into Model (Python Class), View (JavaScript), Control (Python API)"
   ]
  },
  {
   "cell_type": "code",
   "execution_count": 21,
   "metadata": {},
   "outputs": [
    {
     "name": "stdout",
     "output_type": "stream",
     "text": [
      "Decision Tree Classifier Accuracy: 70.59%\n",
      "Logistic Regression Accuracy: 79.41%\n"
     ]
    },
    {
     "ename": "ValueError",
     "evalue": "The feature names should match those that were passed during fit.\nFeature names unseen at fit time:\n- embarked\nFeature names seen at fit time, yet now missing:\n- age\n- alone\n- embarked_C\n- embarked_Q\n- embarked_S\n- ...\n",
     "output_type": "error",
     "traceback": [
      "\u001b[0;31m---------------------------------------------------------------------------\u001b[0m",
      "\u001b[0;31mValueError\u001b[0m                                Traceback (most recent call last)",
      "Cell \u001b[0;32mIn[21], line 119\u001b[0m\n\u001b[1;32m    107\u001b[0m passenger \u001b[38;5;241m=\u001b[39m {\n\u001b[1;32m    108\u001b[0m     \u001b[38;5;124m'\u001b[39m\u001b[38;5;124mname\u001b[39m\u001b[38;5;124m'\u001b[39m: [\u001b[38;5;124m'\u001b[39m\u001b[38;5;124mJohn Mortensen\u001b[39m\u001b[38;5;124m'\u001b[39m],\n\u001b[1;32m    109\u001b[0m     \u001b[38;5;124m'\u001b[39m\u001b[38;5;124mpclass\u001b[39m\u001b[38;5;124m'\u001b[39m: [\u001b[38;5;241m2\u001b[39m],\n\u001b[0;32m   (...)\u001b[0m\n\u001b[1;32m    116\u001b[0m     \u001b[38;5;124m'\u001b[39m\u001b[38;5;124malone\u001b[39m\u001b[38;5;124m'\u001b[39m: [\u001b[38;5;28;01mFalse\u001b[39;00m]\n\u001b[1;32m    117\u001b[0m }\n\u001b[1;32m    118\u001b[0m \u001b[38;5;66;03m# Print the survival probability    \u001b[39;00m\n\u001b[0;32m--> 119\u001b[0m dead_proba, alive_proba \u001b[38;5;241m=\u001b[39m \u001b[43mtitanic_regression\u001b[49m\u001b[38;5;241;43m.\u001b[39;49m\u001b[43mpredictSurvival\u001b[49m\u001b[43m(\u001b[49m\u001b[43mpassenger\u001b[49m\u001b[43m)\u001b[49m\n\u001b[1;32m    120\u001b[0m \u001b[38;5;28mprint\u001b[39m(\u001b[38;5;124m'\u001b[39m\u001b[38;5;124mDeath probability: \u001b[39m\u001b[38;5;132;01m{:.2%}\u001b[39;00m\u001b[38;5;124m'\u001b[39m\u001b[38;5;241m.\u001b[39mformat(dead_proba))  \n\u001b[1;32m    121\u001b[0m \u001b[38;5;28mprint\u001b[39m(\u001b[38;5;124m'\u001b[39m\u001b[38;5;124mSurvival probability: \u001b[39m\u001b[38;5;132;01m{:.2%}\u001b[39;00m\u001b[38;5;124m'\u001b[39m\u001b[38;5;241m.\u001b[39mformat(alive_proba))\n",
      "Cell \u001b[0;32mIn[21], line 83\u001b[0m, in \u001b[0;36mTitanicRegression.predictSurvival\u001b[0;34m(self, passenger)\u001b[0m\n\u001b[1;32m     80\u001b[0m new_passenger[\u001b[38;5;124m'\u001b[39m\u001b[38;5;124malone\u001b[39m\u001b[38;5;124m'\u001b[39m] \u001b[38;5;241m=\u001b[39m new_passenger[\u001b[38;5;124m'\u001b[39m\u001b[38;5;124malone\u001b[39m\u001b[38;5;124m'\u001b[39m]\u001b[38;5;241m.\u001b[39mapply(\u001b[38;5;28;01mlambda\u001b[39;00m x: \u001b[38;5;241m1\u001b[39m \u001b[38;5;28;01mif\u001b[39;00m x \u001b[38;5;241m==\u001b[39m \u001b[38;5;28;01mTrue\u001b[39;00m \u001b[38;5;28;01melse\u001b[39;00m \u001b[38;5;241m0\u001b[39m)\n\u001b[1;32m     82\u001b[0m \u001b[38;5;66;03m# Encode 'embarked' variable\u001b[39;00m\n\u001b[0;32m---> 83\u001b[0m onehot \u001b[38;5;241m=\u001b[39m \u001b[38;5;28;43mself\u001b[39;49m\u001b[38;5;241;43m.\u001b[39;49m\u001b[43mencoder\u001b[49m\u001b[38;5;241;43m.\u001b[39;49m\u001b[43mtransform\u001b[49m\u001b[43m(\u001b[49m\u001b[43mnew_passenger\u001b[49m\u001b[43m[\u001b[49m\u001b[43m[\u001b[49m\u001b[38;5;124;43m'\u001b[39;49m\u001b[38;5;124;43membarked\u001b[39;49m\u001b[38;5;124;43m'\u001b[39;49m\u001b[43m]\u001b[49m\u001b[43m]\u001b[49m\u001b[43m)\u001b[49m\u001b[38;5;241m.\u001b[39mtoarray()\n\u001b[1;32m     84\u001b[0m cols \u001b[38;5;241m=\u001b[39m [\u001b[38;5;124m'\u001b[39m\u001b[38;5;124membarked_\u001b[39m\u001b[38;5;124m'\u001b[39m \u001b[38;5;241m+\u001b[39m val \u001b[38;5;28;01mfor\u001b[39;00m val \u001b[38;5;129;01min\u001b[39;00m \u001b[38;5;28mself\u001b[39m\u001b[38;5;241m.\u001b[39mencoder\u001b[38;5;241m.\u001b[39mcategories_[\u001b[38;5;241m0\u001b[39m]]\n\u001b[1;32m     85\u001b[0m new_passenger[cols] \u001b[38;5;241m=\u001b[39m pd\u001b[38;5;241m.\u001b[39mDataFrame(onehot, index\u001b[38;5;241m=\u001b[39mnew_passenger\u001b[38;5;241m.\u001b[39mindex)\n",
      "File \u001b[0;32m/opt/homebrew/lib/python3.11/site-packages/sklearn/utils/_set_output.py:295\u001b[0m, in \u001b[0;36m_wrap_method_output.<locals>.wrapped\u001b[0;34m(self, X, *args, **kwargs)\u001b[0m\n\u001b[1;32m    293\u001b[0m \u001b[38;5;129m@wraps\u001b[39m(f)\n\u001b[1;32m    294\u001b[0m \u001b[38;5;28;01mdef\u001b[39;00m \u001b[38;5;21mwrapped\u001b[39m(\u001b[38;5;28mself\u001b[39m, X, \u001b[38;5;241m*\u001b[39margs, \u001b[38;5;241m*\u001b[39m\u001b[38;5;241m*\u001b[39mkwargs):\n\u001b[0;32m--> 295\u001b[0m     data_to_wrap \u001b[38;5;241m=\u001b[39m \u001b[43mf\u001b[49m\u001b[43m(\u001b[49m\u001b[38;5;28;43mself\u001b[39;49m\u001b[43m,\u001b[49m\u001b[43m \u001b[49m\u001b[43mX\u001b[49m\u001b[43m,\u001b[49m\u001b[43m \u001b[49m\u001b[38;5;241;43m*\u001b[39;49m\u001b[43margs\u001b[49m\u001b[43m,\u001b[49m\u001b[43m \u001b[49m\u001b[38;5;241;43m*\u001b[39;49m\u001b[38;5;241;43m*\u001b[39;49m\u001b[43mkwargs\u001b[49m\u001b[43m)\u001b[49m\n\u001b[1;32m    296\u001b[0m     \u001b[38;5;28;01mif\u001b[39;00m \u001b[38;5;28misinstance\u001b[39m(data_to_wrap, \u001b[38;5;28mtuple\u001b[39m):\n\u001b[1;32m    297\u001b[0m         \u001b[38;5;66;03m# only wrap the first output for cross decomposition\u001b[39;00m\n\u001b[1;32m    298\u001b[0m         return_tuple \u001b[38;5;241m=\u001b[39m (\n\u001b[1;32m    299\u001b[0m             _wrap_data_with_container(method, data_to_wrap[\u001b[38;5;241m0\u001b[39m], X, \u001b[38;5;28mself\u001b[39m),\n\u001b[1;32m    300\u001b[0m             \u001b[38;5;241m*\u001b[39mdata_to_wrap[\u001b[38;5;241m1\u001b[39m:],\n\u001b[1;32m    301\u001b[0m         )\n",
      "File \u001b[0;32m/opt/homebrew/lib/python3.11/site-packages/sklearn/preprocessing/_encoders.py:1023\u001b[0m, in \u001b[0;36mOneHotEncoder.transform\u001b[0;34m(self, X)\u001b[0m\n\u001b[1;32m   1018\u001b[0m \u001b[38;5;66;03m# validation of X happens in _check_X called by _transform\u001b[39;00m\n\u001b[1;32m   1019\u001b[0m warn_on_unknown \u001b[38;5;241m=\u001b[39m \u001b[38;5;28mself\u001b[39m\u001b[38;5;241m.\u001b[39mdrop \u001b[38;5;129;01mis\u001b[39;00m \u001b[38;5;129;01mnot\u001b[39;00m \u001b[38;5;28;01mNone\u001b[39;00m \u001b[38;5;129;01mand\u001b[39;00m \u001b[38;5;28mself\u001b[39m\u001b[38;5;241m.\u001b[39mhandle_unknown \u001b[38;5;129;01min\u001b[39;00m {\n\u001b[1;32m   1020\u001b[0m     \u001b[38;5;124m\"\u001b[39m\u001b[38;5;124mignore\u001b[39m\u001b[38;5;124m\"\u001b[39m,\n\u001b[1;32m   1021\u001b[0m     \u001b[38;5;124m\"\u001b[39m\u001b[38;5;124minfrequent_if_exist\u001b[39m\u001b[38;5;124m\"\u001b[39m,\n\u001b[1;32m   1022\u001b[0m }\n\u001b[0;32m-> 1023\u001b[0m X_int, X_mask \u001b[38;5;241m=\u001b[39m \u001b[38;5;28;43mself\u001b[39;49m\u001b[38;5;241;43m.\u001b[39;49m\u001b[43m_transform\u001b[49m\u001b[43m(\u001b[49m\n\u001b[1;32m   1024\u001b[0m \u001b[43m    \u001b[49m\u001b[43mX\u001b[49m\u001b[43m,\u001b[49m\n\u001b[1;32m   1025\u001b[0m \u001b[43m    \u001b[49m\u001b[43mhandle_unknown\u001b[49m\u001b[38;5;241;43m=\u001b[39;49m\u001b[38;5;28;43mself\u001b[39;49m\u001b[38;5;241;43m.\u001b[39;49m\u001b[43mhandle_unknown\u001b[49m\u001b[43m,\u001b[49m\n\u001b[1;32m   1026\u001b[0m \u001b[43m    \u001b[49m\u001b[43mforce_all_finite\u001b[49m\u001b[38;5;241;43m=\u001b[39;49m\u001b[38;5;124;43m\"\u001b[39;49m\u001b[38;5;124;43mallow-nan\u001b[39;49m\u001b[38;5;124;43m\"\u001b[39;49m\u001b[43m,\u001b[49m\n\u001b[1;32m   1027\u001b[0m \u001b[43m    \u001b[49m\u001b[43mwarn_on_unknown\u001b[49m\u001b[38;5;241;43m=\u001b[39;49m\u001b[43mwarn_on_unknown\u001b[49m\u001b[43m,\u001b[49m\n\u001b[1;32m   1028\u001b[0m \u001b[43m\u001b[49m\u001b[43m)\u001b[49m\n\u001b[1;32m   1030\u001b[0m n_samples, n_features \u001b[38;5;241m=\u001b[39m X_int\u001b[38;5;241m.\u001b[39mshape\n\u001b[1;32m   1032\u001b[0m \u001b[38;5;28;01mif\u001b[39;00m \u001b[38;5;28mself\u001b[39m\u001b[38;5;241m.\u001b[39m_drop_idx_after_grouping \u001b[38;5;129;01mis\u001b[39;00m \u001b[38;5;129;01mnot\u001b[39;00m \u001b[38;5;28;01mNone\u001b[39;00m:\n",
      "File \u001b[0;32m/opt/homebrew/lib/python3.11/site-packages/sklearn/preprocessing/_encoders.py:196\u001b[0m, in \u001b[0;36m_BaseEncoder._transform\u001b[0;34m(self, X, handle_unknown, force_all_finite, warn_on_unknown, ignore_category_indices)\u001b[0m\n\u001b[1;32m    185\u001b[0m \u001b[38;5;28;01mdef\u001b[39;00m \u001b[38;5;21m_transform\u001b[39m(\n\u001b[1;32m    186\u001b[0m     \u001b[38;5;28mself\u001b[39m,\n\u001b[1;32m    187\u001b[0m     X,\n\u001b[0;32m   (...)\u001b[0m\n\u001b[1;32m    191\u001b[0m     ignore_category_indices\u001b[38;5;241m=\u001b[39m\u001b[38;5;28;01mNone\u001b[39;00m,\n\u001b[1;32m    192\u001b[0m ):\n\u001b[1;32m    193\u001b[0m     X_list, n_samples, n_features \u001b[38;5;241m=\u001b[39m \u001b[38;5;28mself\u001b[39m\u001b[38;5;241m.\u001b[39m_check_X(\n\u001b[1;32m    194\u001b[0m         X, force_all_finite\u001b[38;5;241m=\u001b[39mforce_all_finite\n\u001b[1;32m    195\u001b[0m     )\n\u001b[0;32m--> 196\u001b[0m     \u001b[38;5;28;43mself\u001b[39;49m\u001b[38;5;241;43m.\u001b[39;49m\u001b[43m_check_feature_names\u001b[49m\u001b[43m(\u001b[49m\u001b[43mX\u001b[49m\u001b[43m,\u001b[49m\u001b[43m \u001b[49m\u001b[43mreset\u001b[49m\u001b[38;5;241;43m=\u001b[39;49m\u001b[38;5;28;43;01mFalse\u001b[39;49;00m\u001b[43m)\u001b[49m\n\u001b[1;32m    197\u001b[0m     \u001b[38;5;28mself\u001b[39m\u001b[38;5;241m.\u001b[39m_check_n_features(X, reset\u001b[38;5;241m=\u001b[39m\u001b[38;5;28;01mFalse\u001b[39;00m)\n\u001b[1;32m    199\u001b[0m     X_int \u001b[38;5;241m=\u001b[39m np\u001b[38;5;241m.\u001b[39mzeros((n_samples, n_features), dtype\u001b[38;5;241m=\u001b[39m\u001b[38;5;28mint\u001b[39m)\n",
      "File \u001b[0;32m/opt/homebrew/lib/python3.11/site-packages/sklearn/base.py:535\u001b[0m, in \u001b[0;36mBaseEstimator._check_feature_names\u001b[0;34m(self, X, reset)\u001b[0m\n\u001b[1;32m    530\u001b[0m \u001b[38;5;28;01mif\u001b[39;00m \u001b[38;5;129;01mnot\u001b[39;00m missing_names \u001b[38;5;129;01mand\u001b[39;00m \u001b[38;5;129;01mnot\u001b[39;00m unexpected_names:\n\u001b[1;32m    531\u001b[0m     message \u001b[38;5;241m+\u001b[39m\u001b[38;5;241m=\u001b[39m (\n\u001b[1;32m    532\u001b[0m         \u001b[38;5;124m\"\u001b[39m\u001b[38;5;124mFeature names must be in the same order as they were in fit.\u001b[39m\u001b[38;5;130;01m\\n\u001b[39;00m\u001b[38;5;124m\"\u001b[39m\n\u001b[1;32m    533\u001b[0m     )\n\u001b[0;32m--> 535\u001b[0m \u001b[38;5;28;01mraise\u001b[39;00m \u001b[38;5;167;01mValueError\u001b[39;00m(message)\n",
      "\u001b[0;31mValueError\u001b[0m: The feature names should match those that were passed during fit.\nFeature names unseen at fit time:\n- embarked\nFeature names seen at fit time, yet now missing:\n- age\n- alone\n- embarked_C\n- embarked_Q\n- embarked_S\n- ...\n"
     ]
    }
   ],
   "source": [
    "## Python Titanic Model\n",
    "\n",
    "# Import the required libraries\n",
    "from sklearn.tree import DecisionTreeClassifier\n",
    "from sklearn.linear_model import LogisticRegression\n",
    "from sklearn.metrics import accuracy_score\n",
    "from sklearn.model_selection import train_test_split\n",
    "from sklearn.preprocessing import OneHotEncoder\n",
    "import pandas as pd\n",
    "import seaborn as sns\n",
    "\n",
    "# Define the TitanicRegression global variable\n",
    "titanic_regression = None\n",
    "\n",
    "# Define the TitanicRegression class\n",
    "class TitanicRegression:\n",
    "    def __init__(self):\n",
    "        self.td = None # titanic data\n",
    "        self.dt = None\n",
    "        self.logreg = None\n",
    "        \n",
    "        self.X_train = None\n",
    "        self.X_test = None\n",
    "        self.y_train = None\n",
    "        self.y_test = None\n",
    "        self.encoder = None\n",
    "\n",
    "    def initTitanic(self):\n",
    "        self.td = sns.load_dataset('titanic')\n",
    "        self.td.drop(['alive', 'who', 'adult_male', 'class', 'embark_town', 'deck'], axis=1, inplace=True)\n",
    "        self.td.dropna(inplace=True) # drop rows with at least one missing value, after dropping unuseful columns\n",
    "        self.td['sex'] = self.td['sex'].apply(lambda x: 1 if x == 'male' else 0)\n",
    "        self.td['alone'] = self.td['alone'].apply(lambda x: 1 if x == True else 0)\n",
    "\n",
    "        # Encode categorical variables\n",
    "        self.encoder  = OneHotEncoder(handle_unknown='ignore')\n",
    "        self.encoder.fit(self.td[['embarked']])\n",
    "        onehot = self.encoder.transform(self.td[['embarked']]).toarray()\n",
    "        cols = ['embarked_' + val for val in self.encoder.categories_[0]]\n",
    "        self.td[cols] = pd.DataFrame(onehot)\n",
    "        self.td.drop(['embarked'], axis=1, inplace=True)\n",
    "        self.td.dropna(inplace=True) # drop rows with at least one missing value, after preparing the data\n",
    "\n",
    "        X = self.td.drop('survived', axis=1)\n",
    "        y = self.td['survived']\n",
    "        self.X_train, self.X_test, self.y_train, self.y_test = train_test_split(X, y, test_size=0.3, random_state=42)\n",
    "\n",
    "        self.X_train = self.encoder.fit_transform(self.X_train)\n",
    "        self.X_test = self.encoder.transform(self.X_test)\n",
    "\n",
    "        self.dt = DecisionTreeClassifier()\n",
    "        self.dt.fit(self.X_train, self.y_train)\n",
    "\n",
    "        self.logreg = LogisticRegression() \n",
    "        self.logreg.fit(self.X_train, self.y_train)\n",
    "\n",
    "    def runDecisionTree(self):\n",
    "        if self.dt is None:\n",
    "            print(\"Decision Tree model is not initialized. Please run initTitanic() first.\")\n",
    "            return\n",
    "        y_pred_dt = self.dt.predict(self.X_test)\n",
    "        accuracy_dt = accuracy_score(self.y_test, y_pred_dt)\n",
    "        print('Decision Tree Classifier Accuracy: {:.2%}'.format(accuracy_dt))\n",
    "\n",
    "    def runLogisticRegression(self):\n",
    "        if self.logreg is None:\n",
    "            print(\"Logistic Regression model is not initialized. Please run initTitanic() first.\")\n",
    "            return\n",
    "        y_pred_logreg = self.logreg.predict(self.X_test)\n",
    "        accuracy_logreg = accuracy_score(self.y_test, y_pred_logreg)\n",
    "        print('Logistic Regression Accuracy: {:.2%}'.format(accuracy_logreg))\n",
    "        \n",
    "    def predictSurvival(self, passenger):\n",
    "        passenger_df = pd.DataFrame(passenger, index=[0])   \n",
    "        passenger_df.drop(['name'], axis=1, inplace=True)\n",
    "        new_passenger = passenger_df.copy()\n",
    "\n",
    "        # Preprocess the new passenger data\n",
    "        new_passenger['sex'] = new_passenger['sex'].apply(lambda x: 1 if x == 'male' else 0)\n",
    "        new_passenger['alone'] = new_passenger['alone'].apply(lambda x: 1 if x == True else 0)\n",
    "\n",
    "        # Encode 'embarked' variable\n",
    "        onehot = self.encoder.transform(new_passenger[['embarked']]).toarray()\n",
    "        cols = ['embarked_' + val for val in self.encoder.categories_[0]]\n",
    "        new_passenger[cols] = pd.DataFrame(onehot, index=new_passenger.index)\n",
    "        new_passenger.drop(['embarked'], axis=1, inplace=True)\n",
    "        \n",
    "        display(new_passenger)\n",
    "\n",
    "        # Predict the survival probability for the new passenger\n",
    "        dead_proba, alive_proba = np.squeeze(self.logreg.predict_proba(new_passenger))\n",
    "        return dead_proba, alive_proba\n",
    "\n",
    "def initTitanic():\n",
    "    global titanic_regression\n",
    "    titanic_regression = TitanicRegression()\n",
    "    titanic_regression.initTitanic()\n",
    "    titanic_regression.runDecisionTree()\n",
    "    titanic_regression.runLogisticRegression()\n",
    "\n",
    "\n",
    "# Sample usage\n",
    "if __name__ == \"__main__\":\n",
    "    initTitanic()\n",
    "    \n",
    "    # Predict the survival of a passenger\n",
    "    passenger = {\n",
    "        'name': ['John Mortensen'],\n",
    "        'pclass': [2],\n",
    "        'sex': ['male'],\n",
    "        'age': [64],\n",
    "        'sibsp': [1],\n",
    "        'parch': [1],\n",
    "        'fare': [16.00],\n",
    "        'embarked': ['S'],\n",
    "        'alone': [False]\n",
    "    }\n",
    "    # Print the survival probability    \n",
    "    dead_proba, alive_proba = titanic_regression.predictSurvival(passenger)\n",
    "    print('Death probability: {:.2%}'.format(dead_proba))  \n",
    "    print('Survival probability: {:.2%}'.format(alive_proba))\n"
   ]
  },
  {
   "cell_type": "code",
   "execution_count": null,
   "metadata": {},
   "outputs": [],
   "source": [
    "## Python Titanic API endpoint\n",
    "from flask import request, jsonify\n",
    "\n",
    "# Define the API endpoint for prediction\n",
    "@app.route('/api/predict', methods=['POST'])\n",
    "def predict():\n",
    "    # Get the passenger data from the request\n",
    "    passenger = request.get_json()\n",
    "\n",
    "    response = predictSurvival(passenger)\n",
    "\n",
    "    # Return the response as JSON\n",
    "    return jsonify(response)\n",
    "\n"
   ]
  }
 ],
 "metadata": {
  "kernelspec": {
   "display_name": "base",
   "language": "python",
   "name": "python3"
  },
  "language_info": {
   "codemirror_mode": {
    "name": "ipython",
    "version": 3
   },
   "file_extension": ".py",
   "mimetype": "text/x-python",
   "name": "python",
   "nbconvert_exporter": "python",
   "pygments_lexer": "ipython3",
   "version": "3.11.8"
  },
  "orig_nbformat": 4,
  "vscode": {
   "interpreter": {
    "hash": "65f6bdf080211a4261ca30203f2967d5d410cd9d47d7b7e5694003092334a949"
   }
  }
 },
 "nbformat": 4,
 "nbformat_minor": 2
}
